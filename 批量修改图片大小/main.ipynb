{
 "cells": [
  {
   "cell_type": "code",
   "execution_count": null,
   "metadata": {},
   "outputs": [],
   "source": [
    "from PIL import  Image\n",
    "import os\n",
    "\n",
    "\"\"\"\n",
    "使用PIL库批量修改图片为固定大小\n",
    "\"\"\"\n",
    "\n",
    "path=\"../../../../../研究生生活/2023.02旅游视频制作/0.漫威片头制作/素材\"  #图片所在的文件夹路径\n",
    "for maindir, subdir,file_name_list in os.walk(path):\n",
    "    print(file_name_list)\n",
    "    for file_name in file_name_list:\n",
    "        image=os.path.join(maindir,file_name) #获取每张图片的路径\n",
    "        file=Image.open(image)\n",
    "        out=file.resize((1920,1080),Image.ANTIALIAS)  #以高质量修改图片尺寸为(1920,1080)\n",
    "        out.save(image)                            #以同名保存到原路径"
   ]
  }
 ],
 "metadata": {
  "kernelspec": {
   "display_name": "gobigger",
   "language": "python",
   "name": "python3"
  },
  "language_info": {
   "codemirror_mode": {
    "name": "ipython",
    "version": 3
   },
   "file_extension": ".py",
   "mimetype": "text/x-python",
   "name": "python",
   "nbconvert_exporter": "python",
   "pygments_lexer": "ipython3",
   "version": "3.8.16"
  },
  "orig_nbformat": 4,
  "vscode": {
   "interpreter": {
    "hash": "0c7484b3574347463e16b31029466871583b0d4e5c4ad861e8848f2d3746b4de"
   }
  }
 },
 "nbformat": 4,
 "nbformat_minor": 2
}
